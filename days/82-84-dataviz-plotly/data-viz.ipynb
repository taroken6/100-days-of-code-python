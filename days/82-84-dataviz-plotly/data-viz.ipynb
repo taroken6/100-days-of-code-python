{
 "cells": [
  {
   "cell_type": "markdown",
   "metadata": {},
   "source": [
    "# Data Vizualization with Plotly"
   ]
  },
  {
   "cell_type": "markdown",
   "metadata": {},
   "source": [
    "## First day: getting the data"
   ]
  },
  {
   "cell_type": "markdown",
   "metadata": {},
   "source": [
    "Today we are going to parse PyBites' blog feed for data to make some nice plots. We will use `Plotly`, a nice and easy-to-use data visualization library for Python. \n",
    "\n",
    "To follow along make sure you installed it along with `feedparser` in your virtual env (see the setup video in the appendix). I use [this technique](https://help.pythonanywhere.com/pages/IPythonNotebookVirtualenvs/) to load my venv in Jupyter. \n",
    "\n",
    "Let's focus today on getting the data imported and parsed."
   ]
  },
  {
   "cell_type": "code",
   "execution_count": 3,
   "metadata": {},
   "outputs": [],
   "source": [
    "from collections import Counter\n",
    "from datetime import datetime, timedelta\n",
    "import re\n",
    "\n",
    "import feedparser\n",
    "import plotly\n",
    "import plotly.graph_objs as go"
   ]
  },
  {
   "cell_type": "markdown",
   "metadata": {},
   "source": [
    "I use feedparser to load in our blog feed. It does a great job at parsing the xml into a data structure that is easy to work with."
   ]
  },
  {
   "cell_type": "code",
   "execution_count": 4,
   "metadata": {},
   "outputs": [
    {
     "name": "stdout",
     "output_type": "stream",
     "text": [
      "{'author': 'PyBites',\n",
      " 'author_detail': {'name': 'PyBites'},\n",
      " 'authors': [{'name': 'PyBites'}],\n",
      " 'guidislink': False,\n",
      " 'id': 'tag:pybit.es,2018-01-07:/codechallenge48.html',\n",
      " 'link': 'https://pybit.es/codechallenge48.html',\n",
      " 'links': [{'href': 'https://pybit.es/codechallenge48.html',\n",
      "            'rel': 'alternate',\n",
      "            'type': 'text/html'}],\n",
      " 'published': 'Sun, 07 Jan 2018 12:00:00 +0100',\n",
      " 'published_parsed': time.struct_time(tm_year=2018, tm_mon=1, tm_mday=7, tm_hour=11, tm_min=0, tm_sec=0, tm_wday=6, tm_yday=7, tm_isdst=0),\n",
      " 'summary': '<p>Hi Pythonistas, welcome to a new year of challenges. Are you '\n",
      "            'as amazed as we are by all the awesome Python stuff that comes '\n",
      "            'out every week? But then you feel you always are behind because '\n",
      "            'you lack the time to keep up? Welcome to daily reality. In this '\n",
      "            'challenge we have you contribute to our community with tools to '\n",
      "            'improve our weekly delivery of Python News. Be creative, have '\n",
      "            'fun!</p>',\n",
      " 'summary_detail': {'base': 'http://projects.bobbelderbos.com/pcc/dates/all.rss.xml',\n",
      "                    'language': None,\n",
      "                    'type': 'text/html',\n",
      "                    'value': '<p>Hi Pythonistas, welcome to a new year of '\n",
      "                             'challenges. Are you as amazed as we are by all '\n",
      "                             'the awesome Python stuff that comes out every '\n",
      "                             'week? But then you feel you always are behind '\n",
      "                             'because you lack the time to keep up? Welcome to '\n",
      "                             'daily reality. In this challenge we have you '\n",
      "                             'contribute to our community with tools to '\n",
      "                             'improve our weekly delivery of Python News. Be '\n",
      "                             'creative, have fun!</p>'},\n",
      " 'tags': [{'label': None, 'scheme': None, 'term': 'chdata analysis'},\n",
      "          {'label': None, 'scheme': None, 'term': 'news'},\n",
      "          {'label': None, 'scheme': None, 'term': 'Twitter'},\n",
      "          {'label': None, 'scheme': None, 'term': 'tools'},\n",
      "          {'label': None, 'scheme': None, 'term': 'Planet Python'},\n",
      "          {'label': None, 'scheme': None, 'term': 'digest'},\n",
      "          {'label': None, 'scheme': None, 'term': 'information overload'}],\n",
      " 'title': 'Code Challenge 48 - Create a Python News Digest Tool',\n",
      " 'title_detail': {'base': 'http://projects.bobbelderbos.com/pcc/dates/all.rss.xml',\n",
      "                  'language': None,\n",
      "                  'type': 'text/plain',\n",
      "                  'value': 'Code Challenge 48 - Create a Python News Digest '\n",
      "                           'Tool'}}\n"
     ]
    }
   ],
   "source": [
    "blog_feed = feedparser.parse('http://projects.bobbelderbos.com/pcc/dates/all.rss.xml')\n",
    "entries = blog_feed['entries']\n",
    "\n",
    "from pprint import pprint as pp\n",
    "pp(entries[0])"
   ]
  },
  {
   "cell_type": "markdown",
   "metadata": {},
   "source": [
    "Next I am defining two helper functions we will need for the parsing:"
   ]
  },
  {
   "cell_type": "code",
   "execution_count": 9,
   "metadata": {},
   "outputs": [
    {
     "data": {
      "text/plain": [
       "'2018-1'"
      ]
     },
     "execution_count": 9,
     "metadata": {},
     "output_type": "execute_result"
    }
   ],
   "source": [
    "def get_year_month(date_str):\n",
    "    #  'published': 'Sun, 07 Jan 2018 12:00:00 +0100',\n",
    "    date_str = date_str.split('+')[0].strip()\n",
    "    dt = datetime.strptime(date_str, '%a, %d %b %Y %H:%M:%S')\n",
    "    return f'{dt.year}-{dt.month}'\n",
    "    \n",
    "yymm = get_year_month('Sun, 07 Jan 2018 12:00:00 +0100')\n",
    "yymm"
   ]
  },
  {
   "cell_type": "code",
   "execution_count": 10,
   "metadata": {},
   "outputs": [],
   "source": [
    "def get_category(link):\n",
    "    known = dict(codechallenge='challenge',\n",
    "                 twitter='news',\n",
    "                 special='special',\n",
    "                 guest='guest')\n",
    "    default = 'article'\n",
    "    category = re.sub(r'.*\\.es/([a-z]+).*', r'\\1', link)\n",
    "    return known.get(category) or default"
   ]
  },
  {
   "cell_type": "markdown",
   "metadata": {},
   "source": [
    "We will be plotting the following:\n",
    "1. a bar chart of our posting activity per month,\n",
    "2. a pie chart with break down of our post categories,\n",
    "3. another pie chart of common tags we use\n",
    "\n",
    "Let's keep this simple so we get you coding as soon as possible. \n",
    "\n",
    "Let's now get the corresponding data structures:"
   ]
  },
  {
   "cell_type": "code",
   "execution_count": 11,
   "metadata": {},
   "outputs": [
    {
     "data": {
      "text/plain": [
       "Counter({'2016-12': 13,\n",
       "         '2017-1': 27,\n",
       "         '2017-10': 13,\n",
       "         '2017-11': 12,\n",
       "         '2017-12': 11,\n",
       "         '2017-2': 20,\n",
       "         '2017-3': 25,\n",
       "         '2017-4': 23,\n",
       "         '2017-5': 22,\n",
       "         '2017-6': 19,\n",
       "         '2017-7': 23,\n",
       "         '2017-8': 19,\n",
       "         '2017-9': 13,\n",
       "         '2018-1': 3})"
      ]
     },
     "execution_count": 11,
     "metadata": {},
     "output_type": "execute_result"
    }
   ],
   "source": [
    "pub_dates = [get_year_month(entry.published) for entry in entries]\n",
    "posts_by_month = Counter(pub_dates)\n",
    "posts_by_month"
   ]
  },
  {
   "cell_type": "code",
   "execution_count": 12,
   "metadata": {},
   "outputs": [
    {
     "data": {
      "text/plain": [
       "[('challenge', 89),\n",
       " ('article', 89),\n",
       " ('news', 55),\n",
       " ('special', 5),\n",
       " ('guest', 5)]"
      ]
     },
     "execution_count": 12,
     "metadata": {},
     "output_type": "execute_result"
    }
   ],
   "source": [
    "categories = [get_category(entry.link) for entry in entries]\n",
    "cnt = Counter(categories)\n",
    "categories = cnt.most_common()\n",
    "categories"
   ]
  },
  {
   "cell_type": "code",
   "execution_count": 13,
   "metadata": {},
   "outputs": [
    {
     "data": {
      "text/plain": [
       "[('python', 84),\n",
       " ('learning', 80),\n",
       " ('twitter', 72),\n",
       " ('codechallenges', 72),\n",
       " ('tips', 65)]"
      ]
     },
     "execution_count": 13,
     "metadata": {},
     "output_type": "execute_result"
    }
   ],
   "source": [
    "tags = [tag.term.lower() for entry in entries for tag in entry.tags]\n",
    "cnt = Counter(tags)\n",
    "top_tags = cnt.most_common(20)\n",
    "top_tags[:5]"
   ]
  },
  {
   "cell_type": "markdown",
   "metadata": {},
   "source": [
    "## Plotting the data"
   ]
  },
  {
   "cell_type": "markdown",
   "metadata": {},
   "source": [
    "Great: we managed to get all the required data in data structures that should be easy to work with. Next up let's work on some nice visuals. \n",
    "\n",
    "There are many data visualization libraries available in Python: `matplotlib`, `Bokeh`, `Seaborn`, but here we will use the nice and easy-to-use `Plotly` which I recently discovered."
   ]
  },
  {
   "cell_type": "markdown",
   "metadata": {},
   "source": [
    "Let's add one more helper function. Note that above data structures are dicts or lists of tuples. For our plots we typically need to 2 lists: X + Y axis or labels + values. So we need an easy way to transpose our data structures. Luckily Raymond Hettinger tends to post powerful and Pythonic tips, [this one](https://twitter.com/raymondh/status/951548193363275776) is exactly what we need."
   ]
  },
  {
   "cell_type": "code",
   "execution_count": 14,
   "metadata": {},
   "outputs": [
    {
     "data": {
      "text/plain": [
       "[('2018-1',\n",
       "  '2017-12',\n",
       "  '2017-11',\n",
       "  '2017-10',\n",
       "  '2017-9',\n",
       "  '2017-8',\n",
       "  '2017-7',\n",
       "  '2017-6',\n",
       "  '2017-5',\n",
       "  '2017-4',\n",
       "  '2017-3',\n",
       "  '2017-2',\n",
       "  '2017-1',\n",
       "  '2016-12'),\n",
       " (3, 11, 12, 13, 13, 19, 23, 19, 22, 23, 25, 20, 27, 13)]"
      ]
     },
     "execution_count": 14,
     "metadata": {},
     "output_type": "execute_result"
    }
   ],
   "source": [
    "def transpose_list_of_tuples(data):\n",
    "    if isinstance(data, dict):\n",
    "        data = data.items()\n",
    "    transposed = list(zip(*data))\n",
    "    return transposed\n",
    "\n",
    "transpose_list_of_tuples(posts_by_month)"
   ]
  },
  {
   "cell_type": "markdown",
   "metadata": {},
   "source": [
    "`Plotly` can be used online and offline. We will use latter option. Also to embed the graphs here we need the following line. \n",
    "\n",
    "You might want to check out [Plotly's beginner doc](https://plot.ly/python/getting-started/) for further details."
   ]
  },
  {
   "cell_type": "markdown",
   "metadata": {},
   "source": [
    "plotly.offline.init_notebook_mode(connected=True)"
   ]
  },
  {
   "cell_type": "code",
   "execution_count": 19,
   "metadata": {},
   "outputs": [
    {
     "data": {
      "application/vnd.plotly.v1+json": {
       "data": [
        {
         "type": "bar",
         "x": [
          "2018-1",
          "2017-12",
          "2017-11",
          "2017-10",
          "2017-9",
          "2017-8",
          "2017-7",
          "2017-6",
          "2017-5",
          "2017-4",
          "2017-3",
          "2017-2",
          "2017-1",
          "2016-12"
         ],
         "y": [
          3,
          11,
          12,
          13,
          13,
          19,
          23,
          19,
          22,
          23,
          25,
          20,
          27,
          13
         ]
        }
       ],
       "layout": {}
      }
     },
     "metadata": {},
     "output_type": "display_data"
    }
   ],
   "source": [
    "x, y = transpose_list_of_tuples(posts_by_month)\n",
    "data = [go.Bar(x=x, y=y)]\n",
    "plotly.offline.iplot(data, filename='post-frequency')"
   ]
  },
  {
   "cell_type": "markdown",
   "metadata": {},
   "source": [
    "https://plot.ly/create/?fid=bbelderbos:5"
   ]
  },
  {
   "cell_type": "markdown",
   "metadata": {},
   "source": [
    "<img src=\"images/plot1.png\">"
   ]
  },
  {
   "cell_type": "markdown",
   "metadata": {},
   "source": [
    "In __Jan 2017__ we were most active (well ... that is in # posts, __Jan 2018__ is no less packed!) "
   ]
  },
  {
   "cell_type": "code",
   "execution_count": 16,
   "metadata": {},
   "outputs": [
    {
     "data": {
      "application/vnd.plotly.v1+json": {
       "data": [
        {
         "labels": [
          "challenge",
          "article",
          "news",
          "special",
          "guest"
         ],
         "type": "pie",
         "values": [
          89,
          89,
          55,
          5,
          5
         ]
        }
       ],
       "layout": {}
      }
     },
     "metadata": {},
     "output_type": "display_data"
    }
   ],
   "source": [
    "labels, values = transpose_list_of_tuples(categories)\n",
    "pie = go.Pie(labels=labels, values=values)\n",
    "plotly.offline.iplot([pie], filename=\"categories\")"
   ]
  },
  {
   "cell_type": "markdown",
   "metadata": {},
   "source": [
    "https://plot.ly/create/?fid=bbelderbos:7"
   ]
  },
  {
   "cell_type": "markdown",
   "metadata": {},
   "source": [
    "<img src=\"images/plot2.png\">"
   ]
  },
  {
   "cell_type": "markdown",
   "metadata": {},
   "source": [
    "As you know __challenges__ are a big deal for PyBites!"
   ]
  },
  {
   "cell_type": "code",
   "execution_count": 20,
   "metadata": {},
   "outputs": [
    {
     "data": {
      "application/vnd.plotly.v1+json": {
       "data": [
        {
         "labels": [
          "python",
          "learning",
          "twitter",
          "codechallenges",
          "tips",
          "news",
          "flask",
          "django",
          "code",
          "github",
          "automation",
          "pybites",
          "data science",
          "apis",
          "machine learning",
          "books",
          "jupyter",
          "api",
          "regex",
          "pandas"
         ],
         "type": "pie",
         "values": [
          84,
          80,
          72,
          72,
          65,
          57,
          54,
          40,
          27,
          25,
          24,
          23,
          23,
          21,
          20,
          20,
          19,
          19,
          18,
          18
         ]
        }
       ],
       "layout": {}
      }
     },
     "metadata": {},
     "output_type": "display_data"
    }
   ],
   "source": [
    "labels, values = transpose_list_of_tuples(top_tags)\n",
    "tags = go.Pie(labels=labels, values=values)\n",
    "plotly.offline.iplot([tags], filename='tags')"
   ]
  },
  {
   "cell_type": "markdown",
   "metadata": {},
   "source": [
    "https://plot.ly/create/?fid=bbelderbos:9"
   ]
  },
  {
   "cell_type": "markdown",
   "metadata": {},
   "source": [
    "<img src=\"images/plot3.png\">"
   ]
  },
  {
   "cell_type": "markdown",
   "metadata": {},
   "source": [
    "Pretty obvious, but it's interesting to see we are heavy on challenges, news, but also web frameworks (can use some more Django ...)"
   ]
  },
  {
   "cell_type": "markdown",
   "metadata": {},
   "source": [
    "I hope this gave you a bit of a taste how relatively easy it is to do data visualization in Python using one of the libraries available. Here are some alternatives we've been using:\n",
    "\n",
    "* [Visualizing website and social media metrics with matplotlib](https://pybit.es/matplotlib-starter.html)\n",
    "* [Code Challenge 28 - Integrate a Bokeh Chart Into Flask - Review](https://pybit.es/codechallenge28_review.html) (we also used Bokeh for [our Marvel challenge bonus](https://pybit.es/codechallenge44.html))\n",
    "* [Using Pandas and Seaborn to solve PyBites Marvel Challenge](https://pybit.es/guest-marvel-data-analysis.html)\n",
    "* [Analyzing Brexit data with Pandas](https://bobbelderbos.com/2016/06/analyzing-brexit-data-with-pandas/)"
   ]
  },
  {
   "cell_type": "markdown",
   "metadata": {},
   "source": [
    "## Second and Third day: roll your own!"
   ]
  },
  {
   "cell_type": "markdown",
   "metadata": {},
   "source": [
    "With the materials provided try to get your hands on an interesting data set, be it your own or another source like Kaggle. It should not be that hard, data is everywhere! You probably need some parsing and data cleaning, not the most fun part, but an important skill to have. Pick one of many data viz libraries and create some cool visualizations and share them with us on Twitter. \n",
    "\n",
    "Lack inspiration? [Randy Olson](https://twitter.com/randal_olson) tends to tweet really cool [#dataviz](https://twitter.com/hashtag/dataviz?src=hash) stuff, but remember start simple, this topic alone could cover a 100 Days :)\n",
    "\n",
    "Enjoy and remember: keep calm and code in Python!"
   ]
  },
  {
   "cell_type": "markdown",
   "metadata": {},
   "source": [
    "### Time to share what you've accomplished!\n",
    "\n",
    "Be sure to share your last couple of days work on Twitter or Facebook. Use the hashtag **#100DaysOfCode**.\n",
    "\n",
    "Here are [some examples](https://twitter.com/search?q=%23100DaysOfCode) to inspire you. Consider including [@talkpython](https://twitter.com/talkpython) and [@pybites](https://twitter.com/pybites) in your tweets.\n",
    "\n",
    "*See a mistake in these instructions? Please [submit a new issue](https://github.com/talkpython/100daysofcode-with-python-course/issues) or fix it and [submit a PR](https://github.com/talkpython/100daysofcode-with-python-course/pulls).*"
   ]
  },
  {
   "cell_type": "code",
   "execution_count": null,
   "metadata": {},
   "outputs": [],
   "source": []
  }
 ],
 "metadata": {
  "kernelspec": {
   "display_name": "venv",
   "language": "python",
   "name": "venv"
  },
  "language_info": {
   "codemirror_mode": {
    "name": "ipython",
    "version": 3
   },
   "file_extension": ".py",
   "mimetype": "text/x-python",
   "name": "python",
   "nbconvert_exporter": "python",
   "pygments_lexer": "ipython3",
   "version": "3.6.1"
  }
 },
 "nbformat": 4,
 "nbformat_minor": 2
}
