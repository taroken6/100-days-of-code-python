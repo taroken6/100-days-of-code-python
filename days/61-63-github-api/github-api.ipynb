{
 "cells": [
  {
   "cell_type": "markdown",
   "metadata": {},
   "source": [
    "## Using Python + Github API"
   ]
  },
  {
   "cell_type": "markdown",
   "metadata": {},
   "source": [
    "### First day: exploring the PyGithub module"
   ]
  },
  {
   "cell_type": "markdown",
   "metadata": {},
   "source": [
    "In this lesson I will show you how to use [PyGithub](https://github.com/PyGithub/PyGithub) to retrieve public data from Github profiles. Secondly I will show you how to automatically create a gist. \n",
    "\n",
    "Note that there are other Github libraries, [for example GitPython](https://www.fullstackpython.com/blog/first-steps-gitpython.html), I used PyGithub for multiple occasions though, and although the docs can be improved, it works pretty well. The good news is that this gap allows me to show you some of Python's help and debug features :)"
   ]
  },
  {
   "cell_type": "markdown",
   "metadata": {},
   "source": [
    "#### Getting ready"
   ]
  },
  {
   "cell_type": "markdown",
   "metadata": {},
   "source": [
    "If you watched my appendix setup video you should have all the requirements already installed in your virtual env. If not, [create one first](https://pybit.es/the-beauty-of-virtualenv.html), activate it, then `pip install pygithub`."
   ]
  },
  {
   "cell_type": "markdown",
   "metadata": {},
   "source": [
    "#### Example 1: retrieve a user's popular repos"
   ]
  },
  {
   "cell_type": "code",
   "execution_count": 1,
   "metadata": {},
   "outputs": [],
   "source": [
    "from collections import namedtuple\n",
    "import os\n",
    "\n",
    "from github import Github, InputFileContent"
   ]
  },
  {
   "cell_type": "markdown",
   "metadata": {},
   "source": [
    "Let's start with public access, for that you don't have to pass any user/password or auth token into the `Github` constructor:"
   ]
  },
  {
   "cell_type": "code",
   "execution_count": 2,
   "metadata": {},
   "outputs": [
    {
     "data": {
      "text/plain": [
       "<github.MainClass.Github at 0x108c4e6d8>"
      ]
     },
     "execution_count": 2,
     "metadata": {},
     "output_type": "execute_result"
    }
   ],
   "source": [
    "gh = Github()\n",
    "gh"
   ]
  },
  {
   "cell_type": "markdown",
   "metadata": {},
   "source": [
    "Note that using the public API (no auth) you are pretty limited with the amount of calls per hour (first int is calls left, second int is the max amount per hour):"
   ]
  },
  {
   "cell_type": "code",
   "execution_count": 3,
   "metadata": {},
   "outputs": [
    {
     "data": {
      "text/plain": [
       "(60, 60)"
      ]
     },
     "execution_count": 3,
     "metadata": {},
     "output_type": "execute_result"
    }
   ],
   "source": [
    "gh.rate_limiting"
   ]
  },
  {
   "cell_type": "markdown",
   "metadata": {},
   "source": [
    "As we will see later using the GH API with a login or auth token this limit increases to 5000 calls, more info [here](https://developer.github.com/v3/#rate-limiting)."
   ]
  },
  {
   "cell_type": "markdown",
   "metadata": {},
   "source": [
    "Let's make a _pybites_ user object:"
   ]
  },
  {
   "cell_type": "code",
   "execution_count": 4,
   "metadata": {},
   "outputs": [
    {
     "data": {
      "text/plain": [
       "NamedUser(login=\"pybites\")"
      ]
     },
     "execution_count": 4,
     "metadata": {},
     "output_type": "execute_result"
    }
   ],
   "source": [
    "pb = gh.get_user('pybites')\n",
    "pb"
   ]
  },
  {
   "cell_type": "markdown",
   "metadata": {},
   "source": [
    "#### Pro tip: getting help in Python"
   ]
  },
  {
   "cell_type": "markdown",
   "metadata": {},
   "source": [
    "Let's use the Github API to get the most popular repos for a user. Popularity is defined as the numebr of star(gazers) a repo obtained during its lifetime."
   ]
  },
  {
   "cell_type": "markdown",
   "metadata": {},
   "source": [
    "When working with _pygithub_ expect to do some object inspection on the fly, here is where you might want to learn about [Python's help methods](https://pybit.es/python-help.html):"
   ]
  },
  {
   "cell_type": "code",
   "execution_count": 5,
   "metadata": {},
   "outputs": [
    {
     "name": "stdout",
     "output_type": "stream",
     "text": [
      "No Python documentation found for 'github'.\r\n",
      "Use help() to get the interactive help utility.\r\n",
      "Use help(str) for help on the str class.\r\n",
      "\r\n"
     ]
    }
   ],
   "source": [
    "!pydoc github"
   ]
  },
  {
   "cell_type": "code",
   "execution_count": 6,
   "metadata": {},
   "outputs": [
    {
     "name": "stdout",
     "output_type": "stream",
     "text": [
      "Help on NamedUser in module github.NamedUser object:\n",
      "\n",
      "class NamedUser(github.GithubObject.CompletableGithubObject)\n",
      " |  This class represents NamedUsers as returned for example by http://developer.github.com/v3/todo\n",
      " |  \n",
      " |  Method resolution order:\n",
      " |      NamedUser\n",
      " |      github.GithubObject.CompletableGithubObject\n",
      " |      github.GithubObject.GithubObject\n",
      " |      builtins.object\n",
      " |  \n",
      " |  Methods defined here:\n",
      " |  \n",
      " |  __repr__(self)\n",
      " |      Return repr(self).\n",
      " |  \n",
      " |  get_events(self)\n",
      " |      :calls: `GET /users/:user/events <http://developer.github.com/v3/activity/events>`_\n",
      " |      :rtype: :class:`github.PaginatedList.PaginatedList` of :class:`github.Event.Event`\n",
      " |  \n",
      " |  get_followers(self)\n",
      " |      :calls: `GET /users/:user/followers <http://developer.github.com/v3/users/followers>`_\n",
      " |      :rtype: :class:`github.PaginatedList.PaginatedList` of :class:`github.NamedUser.NamedUser`\n",
      " |  \n",
      " |  get_following(self)\n",
      " |      :calls: `GET /users/:user/following <http://developer.github.com/v3/users/followers>`_\n",
      " |      :rtype: :class:`github.PaginatedList.PaginatedList` of :class:`github.NamedUser.NamedUser`\n",
      " |  \n",
      " |  get_gists(self)\n",
      " |      :calls: `GET /users/:user/gists <http://developer.github.com/v3/gists>`_\n",
      " |      :rtype: :class:`github.PaginatedList.PaginatedList` of :class:`github.Gist.Gist`\n",
      " |  \n",
      " |  get_keys(self)\n",
      " |      :calls: `GET /users/:user/keys <http://developer.github.com/v3/users/keys>`_\n",
      " |      :rtype: :class:`github.PaginatedList.PaginatedList` of :class:`github.UserKey.UserKey`\n",
      " |  \n",
      " |  get_orgs(self)\n",
      " |      :calls: `GET /users/:user/orgs <http://developer.github.com/v3/orgs>`_\n",
      " |      :rtype: :class:`github.PaginatedList.PaginatedList` of :class:`github.Organization.Organization`\n",
      " |  \n",
      " |  get_public_events(self)\n",
      " |      :calls: `GET /users/:user/events/public <http://developer.github.com/v3/activity/events>`_\n",
      " |      :rtype: :class:`github.PaginatedList.PaginatedList` of :class:`github.Event.Event`\n",
      " |  \n",
      " |  get_public_received_events(self)\n",
      " |      :calls: `GET /users/:user/received_events/public <http://developer.github.com/v3/activity/events>`_\n",
      " |      :rtype: :class:`github.PaginatedList.PaginatedList` of :class:`github.Event.Event`\n",
      " |  \n",
      " |  get_received_events(self)\n",
      " |      :calls: `GET /users/:user/received_events <http://developer.github.com/v3/activity/events>`_\n",
      " |      :rtype: :class:`github.PaginatedList.PaginatedList` of :class:`github.Event.Event`\n",
      " |  \n",
      " |  get_repo(self, name)\n",
      " |      :calls: `GET /repos/:owner/:repo <http://developer.github.com/v3/repos>`_\n",
      " |      :param name: string\n",
      " |      :rtype: :class:`github.Repository.Repository`\n",
      " |  \n",
      " |  get_repos(self, type=NotSet)\n",
      " |      :calls: `GET /users/:user/repos <http://developer.github.com/v3/repos>`_\n",
      " |      :param type: string\n",
      " |      :rtype: :class:`github.PaginatedList.PaginatedList` of :class:`github.Repository.Repository`\n",
      " |  \n",
      " |  get_starred(self)\n",
      " |      :calls: `GET /users/:user/starred <http://developer.github.com/v3/activity/starring>`_\n",
      " |      :rtype: :class:`github.PaginatedList.PaginatedList` of :class:`github.Repository.Repository`\n",
      " |  \n",
      " |  get_subscriptions(self)\n",
      " |      :calls: `GET /users/:user/subscriptions <http://developer.github.com/v3/activity/watching>`_\n",
      " |      :rtype: :class:`github.PaginatedList.PaginatedList` of :class:`github.Repository.Repository`\n",
      " |  \n",
      " |  get_watched(self)\n",
      " |      :calls: `GET /users/:user/watched <http://developer.github.com/v3/activity/starring>`_\n",
      " |      :rtype: :class:`github.PaginatedList.PaginatedList` of :class:`github.Repository.Repository`\n",
      " |  \n",
      " |  has_in_following(self, following)\n",
      " |      :calls: `GET /users/:user/following/:target_user <http://developer.github.com/v3/users/followers/#check-if-one-user-follows-another>`_\n",
      " |      :param following: :class:`github.NamedUser.NamedUser`\n",
      " |      :rtype: bool\n",
      " |  \n",
      " |  ----------------------------------------------------------------------\n",
      " |  Data descriptors defined here:\n",
      " |  \n",
      " |  avatar_url\n",
      " |      :type: string\n",
      " |  \n",
      " |  bio\n",
      " |      :type: string\n",
      " |  \n",
      " |  blog\n",
      " |      :type: string\n",
      " |  \n",
      " |  collaborators\n",
      " |      :type: integer\n",
      " |  \n",
      " |  company\n",
      " |      :type: string\n",
      " |  \n",
      " |  contributions\n",
      " |      :type: integer\n",
      " |  \n",
      " |  created_at\n",
      " |      :type: datetime.datetime\n",
      " |  \n",
      " |  disk_usage\n",
      " |      :type: integer\n",
      " |  \n",
      " |  email\n",
      " |      :type: string\n",
      " |  \n",
      " |  events_url\n",
      " |      :type: string\n",
      " |  \n",
      " |  followers\n",
      " |      :type: integer\n",
      " |  \n",
      " |  followers_url\n",
      " |      :type: string\n",
      " |  \n",
      " |  following\n",
      " |      :type: integer\n",
      " |  \n",
      " |  following_url\n",
      " |      :type: string\n",
      " |  \n",
      " |  gists_url\n",
      " |      :type: string\n",
      " |  \n",
      " |  gravatar_id\n",
      " |      :type: string\n",
      " |  \n",
      " |  hireable\n",
      " |      :type: bool\n",
      " |  \n",
      " |  html_url\n",
      " |      :type: string\n",
      " |  \n",
      " |  id\n",
      " |      :type: integer\n",
      " |  \n",
      " |  location\n",
      " |      :type: string\n",
      " |  \n",
      " |  login\n",
      " |      :type: string\n",
      " |  \n",
      " |  name\n",
      " |      :type: string\n",
      " |  \n",
      " |  organizations_url\n",
      " |      :type: string\n",
      " |  \n",
      " |  owned_private_repos\n",
      " |      :type: integer\n",
      " |  \n",
      " |  plan\n",
      " |      :type: :class:`github.Plan.Plan`\n",
      " |  \n",
      " |  private_gists\n",
      " |      :type: integer\n",
      " |  \n",
      " |  public_gists\n",
      " |      :type: integer\n",
      " |  \n",
      " |  public_repos\n",
      " |      :type: integer\n",
      " |  \n",
      " |  received_events_url\n",
      " |      :type: string\n",
      " |  \n",
      " |  repos_url\n",
      " |      :type: string\n",
      " |  \n",
      " |  starred_url\n",
      " |      :type: string\n",
      " |  \n",
      " |  subscriptions_url\n",
      " |      :type: string\n",
      " |  \n",
      " |  total_private_repos\n",
      " |      :type: integer\n",
      " |  \n",
      " |  type\n",
      " |      :type: string\n",
      " |  \n",
      " |  updated_at\n",
      " |      :type: datetime.datetime\n",
      " |  \n",
      " |  url\n",
      " |      :type: string\n",
      " |  \n",
      " |  ----------------------------------------------------------------------\n",
      " |  Methods inherited from github.GithubObject.CompletableGithubObject:\n",
      " |  \n",
      " |  __eq__(self, other)\n",
      " |      Return self==value.\n",
      " |  \n",
      " |  __init__(self, requester, headers, attributes, completed)\n",
      " |      Initialize self.  See help(type(self)) for accurate signature.\n",
      " |  \n",
      " |  __ne__(self, other)\n",
      " |      Return self!=value.\n",
      " |  \n",
      " |  update(self)\n",
      " |      Check and update the object with conditional request\n",
      " |      :rtype: Boolean value indicating whether the object is changed\n",
      " |  \n",
      " |  ----------------------------------------------------------------------\n",
      " |  Data and other attributes inherited from github.GithubObject.CompletableGithubObject:\n",
      " |  \n",
      " |  __hash__ = None\n",
      " |  \n",
      " |  ----------------------------------------------------------------------\n",
      " |  Methods inherited from github.GithubObject.GithubObject:\n",
      " |  \n",
      " |  get__repr__(self, params)\n",
      " |      Converts the object to a nicely printable string.\n",
      " |  \n",
      " |  ----------------------------------------------------------------------\n",
      " |  Class methods inherited from github.GithubObject.GithubObject:\n",
      " |  \n",
      " |  setCheckAfterInitFlag(flag) from builtins.type\n",
      " |  \n",
      " |  ----------------------------------------------------------------------\n",
      " |  Data descriptors inherited from github.GithubObject.GithubObject:\n",
      " |  \n",
      " |  __dict__\n",
      " |      dictionary for instance variables (if defined)\n",
      " |  \n",
      " |  __weakref__\n",
      " |      list of weak references to the object (if defined)\n",
      " |  \n",
      " |  etag\n",
      " |      :type: str\n",
      " |  \n",
      " |  last_modified\n",
      " |      :type: str\n",
      " |  \n",
      " |  raw_data\n",
      " |      :type: dict\n",
      " |  \n",
      " |  raw_headers\n",
      " |      :type: dict\n",
      " |  \n",
      " |  ----------------------------------------------------------------------\n",
      " |  Data and other attributes inherited from github.GithubObject.GithubObject:\n",
      " |  \n",
      " |  CHECK_AFTER_INIT_FLAG = False\n",
      "\n"
     ]
    }
   ],
   "source": [
    "help(pb)"
   ]
  },
  {
   "cell_type": "code",
   "execution_count": 7,
   "metadata": {},
   "outputs": [
    {
     "data": {
      "text/plain": [
       "['CHECK_AFTER_INIT_FLAG',\n",
       " '_CompletableGithubObject__complete',\n",
       " '_CompletableGithubObject__completed',\n",
       " '_GithubObject__makeSimpleAttribute',\n",
       " '_GithubObject__makeSimpleListAttribute',\n",
       " '_GithubObject__makeTransformedAttribute',\n",
       " '__class__',\n",
       " '__delattr__',\n",
       " '__dict__',\n",
       " '__dir__',\n",
       " '__doc__',\n",
       " '__eq__',\n",
       " '__format__',\n",
       " '__ge__',\n",
       " '__getattribute__',\n",
       " '__gt__',\n",
       " '__hash__',\n",
       " '__init__',\n",
       " '__init_subclass__',\n",
       " '__le__',\n",
       " '__lt__',\n",
       " '__module__',\n",
       " '__ne__',\n",
       " '__new__',\n",
       " '__reduce__',\n",
       " '__reduce_ex__',\n",
       " '__repr__',\n",
       " '__setattr__',\n",
       " '__sizeof__',\n",
       " '__str__',\n",
       " '__subclasshook__',\n",
       " '__weakref__',\n",
       " '_avatar_url',\n",
       " '_bio',\n",
       " '_blog',\n",
       " '_collaborators',\n",
       " '_company',\n",
       " '_completeIfNeeded',\n",
       " '_completeIfNotSet',\n",
       " '_contributions',\n",
       " '_created_at',\n",
       " '_disk_usage',\n",
       " '_email',\n",
       " '_events_url',\n",
       " '_followers',\n",
       " '_followers_url',\n",
       " '_following',\n",
       " '_following_url',\n",
       " '_gists_url',\n",
       " '_gravatar_id',\n",
       " '_headers',\n",
       " '_hireable',\n",
       " '_html_url',\n",
       " '_id',\n",
       " '_identity',\n",
       " '_initAttributes',\n",
       " '_location',\n",
       " '_login',\n",
       " '_makeBoolAttribute',\n",
       " '_makeClassAttribute',\n",
       " '_makeDatetimeAttribute',\n",
       " '_makeDictAttribute',\n",
       " '_makeDictOfStringsToClassesAttribute',\n",
       " '_makeIntAttribute',\n",
       " '_makeListOfClassesAttribute',\n",
       " '_makeListOfIntsAttribute',\n",
       " '_makeListOfListOfStringsAttribute',\n",
       " '_makeListOfStringsAttribute',\n",
       " '_makeStringAttribute',\n",
       " '_makeTimestampAttribute',\n",
       " '_name',\n",
       " '_organizations_url',\n",
       " '_owned_private_repos',\n",
       " '_parentUrl',\n",
       " '_plan',\n",
       " '_private_gists',\n",
       " '_public_gists',\n",
       " '_public_repos',\n",
       " '_rawData',\n",
       " '_received_events_url',\n",
       " '_repos_url',\n",
       " '_requester',\n",
       " '_starred_url',\n",
       " '_storeAndUseAttributes',\n",
       " '_subscriptions_url',\n",
       " '_total_private_repos',\n",
       " '_type',\n",
       " '_updated_at',\n",
       " '_url',\n",
       " '_useAttributes',\n",
       " 'avatar_url',\n",
       " 'bio',\n",
       " 'blog',\n",
       " 'collaborators',\n",
       " 'company',\n",
       " 'contributions',\n",
       " 'created_at',\n",
       " 'disk_usage',\n",
       " 'email',\n",
       " 'etag',\n",
       " 'events_url',\n",
       " 'followers',\n",
       " 'followers_url',\n",
       " 'following',\n",
       " 'following_url',\n",
       " 'get__repr__',\n",
       " 'get_events',\n",
       " 'get_followers',\n",
       " 'get_following',\n",
       " 'get_gists',\n",
       " 'get_keys',\n",
       " 'get_orgs',\n",
       " 'get_public_events',\n",
       " 'get_public_received_events',\n",
       " 'get_received_events',\n",
       " 'get_repo',\n",
       " 'get_repos',\n",
       " 'get_starred',\n",
       " 'get_subscriptions',\n",
       " 'get_watched',\n",
       " 'gists_url',\n",
       " 'gravatar_id',\n",
       " 'has_in_following',\n",
       " 'hireable',\n",
       " 'html_url',\n",
       " 'id',\n",
       " 'last_modified',\n",
       " 'location',\n",
       " 'login',\n",
       " 'name',\n",
       " 'organizations_url',\n",
       " 'owned_private_repos',\n",
       " 'plan',\n",
       " 'private_gists',\n",
       " 'public_gists',\n",
       " 'public_repos',\n",
       " 'raw_data',\n",
       " 'raw_headers',\n",
       " 'received_events_url',\n",
       " 'repos_url',\n",
       " 'setCheckAfterInitFlag',\n",
       " 'starred_url',\n",
       " 'subscriptions_url',\n",
       " 'total_private_repos',\n",
       " 'type',\n",
       " 'update',\n",
       " 'updated_at',\n",
       " 'url']"
      ]
     },
     "execution_count": 7,
     "metadata": {},
     "output_type": "execute_result"
    }
   ],
   "source": [
    "dir(pb)"
   ]
  },
  {
   "cell_type": "code",
   "execution_count": 8,
   "metadata": {},
   "outputs": [
    {
     "name": "stdout",
     "output_type": "stream",
     "text": [
      "Help on method get_repos in module github.NamedUser:\n",
      "\n",
      "get_repos(type=NotSet) method of github.NamedUser.NamedUser instance\n",
      "    :calls: `GET /users/:user/repos <http://developer.github.com/v3/repos>`_\n",
      "    :param type: string\n",
      "    :rtype: :class:`github.PaginatedList.PaginatedList` of :class:`github.Repository.Repository`\n",
      "\n"
     ]
    }
   ],
   "source": [
    "help(pb.get_repos)"
   ]
  },
  {
   "cell_type": "markdown",
   "metadata": {},
   "source": [
    "Now it becomes a lot easier! Let's use a namedtuple to make our code more readable. I could use a generator but I want to sort on number of stars so I collect all repos in a list, then use `sorted` with the `key` argument. You will see this pattern more in this course: they `key` argument can receive a _callable_ (here a _lambda_) which determines on what to sort, in this case number of stars.\n",
    "\n",
    "> The lambda operator or lambda function is a way to create small anonymous functions, i.e. functions without a name. These functions are throw-away functions, i.e. they are just needed where they have been created. Lambda functions are mainly used in combination with the functions filter(), map() and reduce() [source](https://www.python-course.eu/lambda.php)"
   ]
  },
  {
   "cell_type": "code",
   "execution_count": 9,
   "metadata": {},
   "outputs": [
    {
     "data": {
      "text/plain": [
       "<github.PaginatedList.PaginatedList at 0x10909ccf8>"
      ]
     },
     "execution_count": 9,
     "metadata": {},
     "output_type": "execute_result"
    }
   ],
   "source": [
    "pb.get_repos()"
   ]
  },
  {
   "cell_type": "code",
   "execution_count": 10,
   "metadata": {},
   "outputs": [],
   "source": [
    "Repo = namedtuple('Repo', 'name stars forks')"
   ]
  },
  {
   "cell_type": "code",
   "execution_count": 11,
   "metadata": {},
   "outputs": [],
   "source": [
    "def get_repo_stats(user, n=5):\n",
    "    \"\"\"We did this exercise in our own 100 Days of Code:\n",
    "       https://github.com/pybites/100DaysOfCode/blob/master/084/ghstats.py\"\"\"\n",
    "    repos = []\n",
    "    for repo in user.get_repos():\n",
    "        if repo.fork:\n",
    "            continue\n",
    "        \n",
    "        repos.append(Repo(name=repo.name,\n",
    "                          stars=repo.stargazers_count,\n",
    "                          forks=repo.forks_count))\n",
    "    \n",
    "    return sorted(repos, key=lambda x: x.stars, reverse=True)[:n]"
   ]
  },
  {
   "cell_type": "code",
   "execution_count": 12,
   "metadata": {},
   "outputs": [
    {
     "data": {
      "text/plain": [
       "[Repo(name='challenges', stars=230, forks=578),\n",
       " Repo(name='100DaysOfCode', stars=199, forks=60),\n",
       " Repo(name='bday-app', stars=16, forks=4),\n",
       " Repo(name='blog_code', stars=12, forks=5),\n",
       " Repo(name='dunders', stars=6, forks=3)]"
      ]
     },
     "execution_count": 12,
     "metadata": {},
     "output_type": "execute_result"
    }
   ],
   "source": [
    "get_repo_stats(pb)"
   ]
  },
  {
   "cell_type": "markdown",
   "metadata": {},
   "source": [
    "We can call it on any user, let's see Mike's most popular repos:"
   ]
  },
  {
   "cell_type": "code",
   "execution_count": 13,
   "metadata": {},
   "outputs": [
    {
     "data": {
      "text/plain": [
       "[Repo(name='python-jumpstart-course-demos', stars=300, forks=177),\n",
       " Repo(name='write-pythonic-code-demos', stars=294, forks=89),\n",
       " Repo(name='python-for-entrepreneurs-course-demos', stars=153, forks=88),\n",
       " Repo(name='python-switch', stars=137, forks=7),\n",
       " Repo(name='ten-tips-for-pythonic-code-jetbrains-webcast', stars=70, forks=17)]"
      ]
     },
     "execution_count": 13,
     "metadata": {},
     "output_type": "execute_result"
    }
   ],
   "source": [
    "mk = gh.get_user('mikeckennedy')\n",
    "get_repo_stats(mk)"
   ]
  },
  {
   "cell_type": "markdown",
   "metadata": {},
   "source": [
    "#### Example 2: auto-create a gist"
   ]
  },
  {
   "cell_type": "markdown",
   "metadata": {},
   "source": [
    "Let's [create a gist](https://developer.github.com/v3/gists/#create-a-gist) sharing the `get_repo_stats` function with the world :)"
   ]
  },
  {
   "cell_type": "markdown",
   "metadata": {},
   "source": [
    "To post on behalf of your user you need to instantiate `Github` with your login and password or create an auth token. I did the latter. "
   ]
  },
  {
   "cell_type": "markdown",
   "metadata": {},
   "source": [
    "1. Go to your Github Settings and create a token:\n",
    "    ![go to settings](images/token1.png)\n",
    "    \n",
    "2. Define a name and choose the type of access you want to grant:\n",
    "    ![define access](images/token2.png)\n",
    "    \n",
    "3. Copy the token and store it somewhere safe, as best practice I stored it as a env variable called `GH_GIST_CREATE_TOKEN`:\n",
    "    ![copy token](images/token3.png)"
   ]
  },
  {
   "cell_type": "markdown",
   "metadata": {},
   "source": [
    "Let's load the token from the environment:"
   ]
  },
  {
   "cell_type": "code",
   "execution_count": 14,
   "metadata": {},
   "outputs": [],
   "source": [
    "token = os.environ['GH_GIST_CREATE_TOKEN']"
   ]
  },
  {
   "cell_type": "markdown",
   "metadata": {},
   "source": [
    "And instantiance a new `Github` object using the token:"
   ]
  },
  {
   "cell_type": "code",
   "execution_count": 15,
   "metadata": {},
   "outputs": [
    {
     "data": {
      "text/plain": [
       "<github.MainClass.Github at 0x1090bb8d0>"
      ]
     },
     "execution_count": 15,
     "metadata": {},
     "output_type": "execute_result"
    }
   ],
   "source": [
    "gh = Github(token)\n",
    "gh"
   ]
  },
  {
   "cell_type": "code",
   "execution_count": 16,
   "metadata": {},
   "outputs": [
    {
     "data": {
      "text/plain": [
       "(5000, 5000)"
      ]
     },
     "execution_count": 16,
     "metadata": {},
     "output_type": "execute_result"
    }
   ],
   "source": [
    "gh.rate_limiting"
   ]
  },
  {
   "cell_type": "markdown",
   "metadata": {},
   "source": [
    "It was not too obvious how to create a gist. This is the route I took:\n",
    "\n",
    "1. Q: docs, on what object can I call `create_gist`? A: on an [AuthenticatedUser](http://pygithub.readthedocs.io/en/latest/github_objects/AuthenticatedUser.html#github.AuthenticatedUser.AuthenticatedUser.create_gist) object\n",
    "2. How do I get an `AuthenticatedUser`, it turned out calling `get_user` on the `Github` object (`gh` variable) we instantiated with the token above:\n"
   ]
  },
  {
   "cell_type": "code",
   "execution_count": 17,
   "metadata": {},
   "outputs": [
    {
     "data": {
      "text/plain": [
       "AuthenticatedUser(login=None)"
      ]
     },
     "execution_count": 17,
     "metadata": {},
     "output_type": "execute_result"
    }
   ],
   "source": [
    "me = gh.get_user()\n",
    "me"
   ]
  },
  {
   "cell_type": "code",
   "execution_count": 18,
   "metadata": {},
   "outputs": [
    {
     "ename": "TypeError",
     "evalue": "create_gist() missing 2 required positional arguments: 'public' and 'files'",
     "output_type": "error",
     "traceback": [
      "\u001b[0;31m---------------------------------------------------------------------------\u001b[0m",
      "\u001b[0;31mTypeError\u001b[0m                                 Traceback (most recent call last)",
      "\u001b[0;32m<ipython-input-18-3ba0dbe869e5>\u001b[0m in \u001b[0;36m<module>\u001b[0;34m()\u001b[0m\n\u001b[0;32m----> 1\u001b[0;31m \u001b[0mme\u001b[0m\u001b[0;34m.\u001b[0m\u001b[0mcreate_gist\u001b[0m\u001b[0;34m(\u001b[0m\u001b[0;34m)\u001b[0m\u001b[0;34m\u001b[0m\u001b[0m\n\u001b[0m",
      "\u001b[0;31mTypeError\u001b[0m: create_gist() missing 2 required positional arguments: 'public' and 'files'"
     ]
    }
   ],
   "source": [
    "me.create_gist()"
   ]
  },
  {
   "cell_type": "markdown",
   "metadata": {},
   "source": [
    "Although that is a useful error message, I'd like to know all the arguments:"
   ]
  },
  {
   "cell_type": "code",
   "execution_count": 19,
   "metadata": {},
   "outputs": [
    {
     "name": "stdout",
     "output_type": "stream",
     "text": [
      "Help on method create_gist in module github.AuthenticatedUser:\n",
      "\n",
      "create_gist(public, files, description=NotSet) method of github.AuthenticatedUser.AuthenticatedUser instance\n",
      "    :calls: `POST /gists <http://developer.github.com/v3/gists>`_\n",
      "    :param public: bool\n",
      "    :param files: dict of string to :class:`github.InputFileContent.InputFileContent`\n",
      "    :param description: string\n",
      "    :rtype: :class:`github.Gist.Gist`\n",
      "\n"
     ]
    }
   ],
   "source": [
    "help(me.create_gist)"
   ]
  },
  {
   "cell_type": "markdown",
   "metadata": {},
   "source": [
    "Awesome, let's create our gist. First let's store our code in a variable:"
   ]
  },
  {
   "cell_type": "code",
   "execution_count": 20,
   "metadata": {},
   "outputs": [],
   "source": [
    "code = '''\n",
    "from collections import namedtuple\n",
    "\n",
    "Repo = namedtuple('Repo', 'name stars forks')\n",
    "\n",
    "\n",
    "def get_repo_stats(user, n=5):\n",
    "    \"\"\"Takes a Github user object and returns the top n most popular repos by star count,\n",
    "       skips forks.\"\"\"\n",
    "    repos = []\n",
    "    for repo in user.get_repos():\n",
    "        if repo.fork:\n",
    "            continue\n",
    "\n",
    "        repos.append(Repo(name=repo.name,\n",
    "                          stars=repo.stargazers_count,\n",
    "                          forks=repo.forks_count))\n",
    "        \n",
    "    return sorted(repos, key=lambda x: x.stars, reverse=True)[:n]\n",
    "'''"
   ]
  },
  {
   "cell_type": "code",
   "execution_count": 21,
   "metadata": {},
   "outputs": [
    {
     "data": {
      "text/plain": [
       "Gist(id=\"6989d9c71a02951a50aa6f1aefc62b20\")"
      ]
     },
     "execution_count": 21,
     "metadata": {},
     "output_type": "execute_result"
    }
   ],
   "source": [
    "me.create_gist(True,\n",
    "               {\"repo_stats.py\": InputFileContent(code)},\n",
    "               \"Get GH user's most popular repos\")"
   ]
  },
  {
   "cell_type": "markdown",
   "metadata": {},
   "source": [
    "And the result:\n",
    "\n",
    "![result](images/my_gist.png)"
   ]
  },
  {
   "cell_type": "markdown",
   "metadata": {},
   "source": [
    "#### Pro tip: using pdb to inspect GH objects"
   ]
  },
  {
   "cell_type": "markdown",
   "metadata": {},
   "source": [
    "Here is another useful skill when working with APIs that are not 100% documented or confusing: use the standard library debugger: `pdb`. For example, I wanted to print pybites' gists but was not sure what attributes I could include. `pdb` to the rescue: breaking inside the loop I can quickly do a `dir` on the `gist` object to see its attributes and methods\n",
    "\n",
    "For more info on this topic see [How to Use Pdb to Debug Your Code](https://pybit.es/pdb-debugger.html)."
   ]
  },
  {
   "cell_type": "code",
   "execution_count": 22,
   "metadata": {},
   "outputs": [
    {
     "name": "stdout",
     "output_type": "stream",
     "text": [
      " (2017-09-11 18:13:33)\n",
      "https://gist.github.com/e1c04368fd1bc994c6f2e3ef89e90dd4\n",
      "> <ipython-input-22-bf90a3856355>(1)<module>()\n",
      "-> for gist in gh.get_user('pybites').get_gists():\n",
      "(Pdb) q\n"
     ]
    },
    {
     "ename": "BdbQuit",
     "evalue": "",
     "output_type": "error",
     "traceback": [
      "\u001b[0;31m---------------------------------------------------------------------------\u001b[0m",
      "\u001b[0;31mBdbQuit\u001b[0m                                   Traceback (most recent call last)",
      "\u001b[0;32m<ipython-input-22-bf90a3856355>\u001b[0m in \u001b[0;36m<module>\u001b[0;34m()\u001b[0m\n\u001b[0;32m----> 1\u001b[0;31m \u001b[0;32mfor\u001b[0m \u001b[0mgist\u001b[0m \u001b[0;32min\u001b[0m \u001b[0mgh\u001b[0m\u001b[0;34m.\u001b[0m\u001b[0mget_user\u001b[0m\u001b[0;34m(\u001b[0m\u001b[0;34m'pybites'\u001b[0m\u001b[0;34m)\u001b[0m\u001b[0;34m.\u001b[0m\u001b[0mget_gists\u001b[0m\u001b[0;34m(\u001b[0m\u001b[0;34m)\u001b[0m\u001b[0;34m:\u001b[0m\u001b[0;34m\u001b[0m\u001b[0m\n\u001b[0m\u001b[1;32m      2\u001b[0m     \u001b[0mprint\u001b[0m\u001b[0;34m(\u001b[0m\u001b[0;34mf'{gist.description} ({gist.created_at})'\u001b[0m\u001b[0;34m)\u001b[0m\u001b[0;34m\u001b[0m\u001b[0m\n\u001b[1;32m      3\u001b[0m     \u001b[0mprint\u001b[0m\u001b[0;34m(\u001b[0m\u001b[0;34mf'https://gist.github.com/{gist.id}'\u001b[0m\u001b[0;34m)\u001b[0m\u001b[0;34m\u001b[0m\u001b[0m\n\u001b[1;32m      4\u001b[0m     \u001b[0;32mimport\u001b[0m \u001b[0mpdb\u001b[0m\u001b[0;34m;\u001b[0m \u001b[0mpdb\u001b[0m\u001b[0;34m.\u001b[0m\u001b[0mset_trace\u001b[0m\u001b[0;34m(\u001b[0m\u001b[0;34m)\u001b[0m\u001b[0;34m\u001b[0m\u001b[0m\n",
      "\u001b[0;32m<ipython-input-22-bf90a3856355>\u001b[0m in \u001b[0;36m<module>\u001b[0;34m()\u001b[0m\n\u001b[0;32m----> 1\u001b[0;31m \u001b[0;32mfor\u001b[0m \u001b[0mgist\u001b[0m \u001b[0;32min\u001b[0m \u001b[0mgh\u001b[0m\u001b[0;34m.\u001b[0m\u001b[0mget_user\u001b[0m\u001b[0;34m(\u001b[0m\u001b[0;34m'pybites'\u001b[0m\u001b[0;34m)\u001b[0m\u001b[0;34m.\u001b[0m\u001b[0mget_gists\u001b[0m\u001b[0;34m(\u001b[0m\u001b[0;34m)\u001b[0m\u001b[0;34m:\u001b[0m\u001b[0;34m\u001b[0m\u001b[0m\n\u001b[0m\u001b[1;32m      2\u001b[0m     \u001b[0mprint\u001b[0m\u001b[0;34m(\u001b[0m\u001b[0;34mf'{gist.description} ({gist.created_at})'\u001b[0m\u001b[0;34m)\u001b[0m\u001b[0;34m\u001b[0m\u001b[0m\n\u001b[1;32m      3\u001b[0m     \u001b[0mprint\u001b[0m\u001b[0;34m(\u001b[0m\u001b[0;34mf'https://gist.github.com/{gist.id}'\u001b[0m\u001b[0;34m)\u001b[0m\u001b[0;34m\u001b[0m\u001b[0m\n\u001b[1;32m      4\u001b[0m     \u001b[0;32mimport\u001b[0m \u001b[0mpdb\u001b[0m\u001b[0;34m;\u001b[0m \u001b[0mpdb\u001b[0m\u001b[0;34m.\u001b[0m\u001b[0mset_trace\u001b[0m\u001b[0;34m(\u001b[0m\u001b[0;34m)\u001b[0m\u001b[0;34m\u001b[0m\u001b[0m\n",
      "\u001b[0;32m/Users/bbelderb/anaconda/lib/python3.6/bdb.py\u001b[0m in \u001b[0;36mtrace_dispatch\u001b[0;34m(self, frame, event, arg)\u001b[0m\n\u001b[1;32m     46\u001b[0m             \u001b[0;32mreturn\u001b[0m \u001b[0;31m# None\u001b[0m\u001b[0;34m\u001b[0m\u001b[0m\n\u001b[1;32m     47\u001b[0m         \u001b[0;32mif\u001b[0m \u001b[0mevent\u001b[0m \u001b[0;34m==\u001b[0m \u001b[0;34m'line'\u001b[0m\u001b[0;34m:\u001b[0m\u001b[0;34m\u001b[0m\u001b[0m\n\u001b[0;32m---> 48\u001b[0;31m             \u001b[0;32mreturn\u001b[0m \u001b[0mself\u001b[0m\u001b[0;34m.\u001b[0m\u001b[0mdispatch_line\u001b[0m\u001b[0;34m(\u001b[0m\u001b[0mframe\u001b[0m\u001b[0;34m)\u001b[0m\u001b[0;34m\u001b[0m\u001b[0m\n\u001b[0m\u001b[1;32m     49\u001b[0m         \u001b[0;32mif\u001b[0m \u001b[0mevent\u001b[0m \u001b[0;34m==\u001b[0m \u001b[0;34m'call'\u001b[0m\u001b[0;34m:\u001b[0m\u001b[0;34m\u001b[0m\u001b[0m\n\u001b[1;32m     50\u001b[0m             \u001b[0;32mreturn\u001b[0m \u001b[0mself\u001b[0m\u001b[0;34m.\u001b[0m\u001b[0mdispatch_call\u001b[0m\u001b[0;34m(\u001b[0m\u001b[0mframe\u001b[0m\u001b[0;34m,\u001b[0m \u001b[0marg\u001b[0m\u001b[0;34m)\u001b[0m\u001b[0;34m\u001b[0m\u001b[0m\n",
      "\u001b[0;32m/Users/bbelderb/anaconda/lib/python3.6/bdb.py\u001b[0m in \u001b[0;36mdispatch_line\u001b[0;34m(self, frame)\u001b[0m\n\u001b[1;32m     65\u001b[0m         \u001b[0;32mif\u001b[0m \u001b[0mself\u001b[0m\u001b[0;34m.\u001b[0m\u001b[0mstop_here\u001b[0m\u001b[0;34m(\u001b[0m\u001b[0mframe\u001b[0m\u001b[0;34m)\u001b[0m \u001b[0;32mor\u001b[0m \u001b[0mself\u001b[0m\u001b[0;34m.\u001b[0m\u001b[0mbreak_here\u001b[0m\u001b[0;34m(\u001b[0m\u001b[0mframe\u001b[0m\u001b[0;34m)\u001b[0m\u001b[0;34m:\u001b[0m\u001b[0;34m\u001b[0m\u001b[0m\n\u001b[1;32m     66\u001b[0m             \u001b[0mself\u001b[0m\u001b[0;34m.\u001b[0m\u001b[0muser_line\u001b[0m\u001b[0;34m(\u001b[0m\u001b[0mframe\u001b[0m\u001b[0;34m)\u001b[0m\u001b[0;34m\u001b[0m\u001b[0m\n\u001b[0;32m---> 67\u001b[0;31m             \u001b[0;32mif\u001b[0m \u001b[0mself\u001b[0m\u001b[0;34m.\u001b[0m\u001b[0mquitting\u001b[0m\u001b[0;34m:\u001b[0m \u001b[0;32mraise\u001b[0m \u001b[0mBdbQuit\u001b[0m\u001b[0;34m\u001b[0m\u001b[0m\n\u001b[0m\u001b[1;32m     68\u001b[0m         \u001b[0;32mreturn\u001b[0m \u001b[0mself\u001b[0m\u001b[0;34m.\u001b[0m\u001b[0mtrace_dispatch\u001b[0m\u001b[0;34m\u001b[0m\u001b[0m\n\u001b[1;32m     69\u001b[0m \u001b[0;34m\u001b[0m\u001b[0m\n",
      "\u001b[0;31mBdbQuit\u001b[0m: "
     ]
    }
   ],
   "source": [
    "for gist in gh.get_user('pybites').get_gists():\n",
    "    print(f'{gist.description} ({gist.created_at})')\n",
    "    print(f'https://gist.github.com/{gist.id}')\n",
    "    import pdb; pdb.set_trace()"
   ]
  },
  {
   "cell_type": "code",
   "execution_count": 23,
   "metadata": {},
   "outputs": [
    {
     "name": "stdout",
     "output_type": "stream",
     "text": [
      " (2017-09-11 18:13:33 | None)\n",
      "https://gist.github.com/e1c04368fd1bc994c6f2e3ef89e90dd4\n",
      "\n",
      "Generate wordcloud of followers' descriptions (2017-08-20 22:41:39 | Gist(id=\"ac263a371830cafe309d88a5d099b887\"))\n",
      "https://gist.github.com/e78118f606831d2b152dfeee9c527b76\n",
      "\n",
      "PyBites.py (2017-06-04 18:01:54 | Gist(id=\"f302c8b042341deb48bab4f3b7645198\"))\n",
      "https://gist.github.com/8bd9fdd28aef02024c658d1b33ccabe5\n",
      "\n",
      "A simple tictactoe game including AI (2017-03-24 17:42:35 | None)\n",
      "https://gist.github.com/064865310a841e6959a0472c440ac1be\n",
      "\n",
      "Python scripts to read a list of customer emails and send an email with the daily weather forecast (2017-03-23 10:31:55 | Gist(id=\"21f78b1d06ff2985e4c9\"))\n",
      "https://gist.github.com/7534d0e4458aed230266ff040e56dfee\n",
      "\n"
     ]
    }
   ],
   "source": [
    "for gist in gh.get_user(\"pybites\").get_gists():\n",
    "    print(f'{gist.description} ({gist.created_at} | {gist.fork_of})')\n",
    "    print(f'https://gist.github.com/{gist.id}')\n",
    "    print()"
   ]
  },
  {
   "cell_type": "code",
   "execution_count": 24,
   "metadata": {},
   "outputs": [
    {
     "data": {
      "text/plain": [
       "'https://assets-cdn.github.com/images/icons/emoji/unicode/1f40d.png?v7'"
      ]
     },
     "execution_count": 24,
     "metadata": {},
     "output_type": "execute_result"
    }
   ],
   "source": [
    "gh.get_emojis()['snake']"
   ]
  },
  {
   "cell_type": "markdown",
   "metadata": {},
   "source": [
    "![wrapping it up](https://assets-cdn.github.com/images/icons/emoji/unicode/1f40d.png?v7)"
   ]
  },
  {
   "cell_type": "markdown",
   "metadata": {},
   "source": [
    "## Second + third day: practice!"
   ]
  },
  {
   "cell_type": "markdown",
   "metadata": {},
   "source": [
    "Now you got the basics down, it's time to start using the Github API with Python yourself, here are some ideas. Again you can use PyGithub or any other wrapper module, as long as you use Python :)\n",
    "\n",
    "Some ideas:\n",
    "- Make a [Github Profiler](https://github.com/clamytoe/Github-Profiler) (this project was submitted for our [Code Challenge 16 - Query Your Favorite API](https://pybit.es/codechallenge16.html)).\n",
    "- [Code Challenge 38 - Build Your Own Hacktoberfest Checker With Bottle](https://pybit.es/codechallenge38.html) - nice exercise to list user PRs for a given month.\n",
    "- Try to implement a GH login button like we did on [codechalleng.es](http://codechalleng.es). For this you will need to register an app with your GH account. With the token you get upon login you can commit code on behalf of the user, but be aware: _with great power comes great responsibility_.\n",
    "- Be creative, have fun!"
   ]
  },
  {
   "cell_type": "markdown",
   "metadata": {},
   "source": [
    "Some extra links:\n",
    "- Check out the full Github API documentation [here](https://developer.github.com/v3/)\n",
    "- [Module of the Week - Requests-cache for Repeated API Calls](https://pybit.es/requests-cache.html): useful in dev mode when you need to make repeated calls to an API without exhausting its rate limits."
   ]
  },
  {
   "cell_type": "markdown",
   "metadata": {},
   "source": [
    "### Time to share what you've accomplished!\n",
    "\n",
    "Be sure to share your last couple of days work on Twitter or Facebook. Use the hashtag **#100DaysOfCode**.\n",
    "\n",
    "Here are [some examples](https://twitter.com/search?q=%23100DaysOfCode) to inspire you. Consider including [@talkpython](https://twitter.com/talkpython) and [@pybites](https://twitter.com/pybites) in your tweets.\n",
    "\n",
    "*See a mistake in these instructions? Please [submit a new issue](https://github.com/talkpython/100daysofcode-with-python-course/issues) or fix it and [submit a PR](https://github.com/talkpython/100daysofcode-with-python-course/pulls).*"
   ]
  },
  {
   "cell_type": "code",
   "execution_count": null,
   "metadata": {},
   "outputs": [],
   "source": []
  }
 ],
 "metadata": {
  "kernelspec": {
   "display_name": "venv",
   "language": "python",
   "name": "venv"
  },
  "language_info": {
   "codemirror_mode": {
    "name": "ipython",
    "version": 3
   },
   "file_extension": ".py",
   "mimetype": "text/x-python",
   "name": "python",
   "nbconvert_exporter": "python",
   "pygments_lexer": "ipython3",
   "version": "3.6.1"
  }
 },
 "nbformat": 4,
 "nbformat_minor": 2
}
